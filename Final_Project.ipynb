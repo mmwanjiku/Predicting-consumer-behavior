{
 "cells": [
  {
   "cell_type": "markdown",
   "metadata": {},
   "source": [
    "## Predicting consumer behaviour "
   ]
  },
  {
   "cell_type": "markdown",
   "metadata": {},
   "source": [
    "Over the past few years businesses have come to appreciate the value social media has on their growth. Is it possible to predict whether or not a purchase will be made based on the comments on a social media post?"
   ]
  },
  {
   "cell_type": "markdown",
   "metadata": {},
   "source": [
    "For instance a clothing and accesories online business that advertises its products on Instagram."
   ]
  },
  {
   "cell_type": "markdown",
   "metadata": {},
   "source": [
    "### Data Preparation"
   ]
  },
  {
   "cell_type": "code",
   "execution_count": 275,
   "metadata": {},
   "outputs": [],
   "source": [
    "#Import the necesary libraries for data access and manipulation\n",
    "import numpy as np\n",
    "import pandas as pd\n",
    "\n",
    "#Import the data cleaning library\n",
    "import re\n",
    "\n",
    "#Import the visualization libraries\n",
    "import matplotlib.pyplot as plt \n",
    "import seaborn as sns\n",
    "    \n",
    "# for Stemming propose  \n",
    "from nltk.stem.porter import PorterStemmer \n",
    "\n",
    "#Text Processing\n",
    "from sklearn.feature_extraction.text import CountVectorizer, TfidfVectorizer\n",
    "from nltk.corpus import stopwords\n",
    "\n",
    "# Import the metrics\n",
    "from sklearn import metrics\n",
    "from sklearn.metrics import confusion_matrix\n",
    "from sklearn.metrics import classification_report\n",
    "from sklearn.metrics import roc_auc_score,roc_curve,auc\n",
    "\n",
    "#Import warnings\n",
    "import warnings \n",
    "\n",
    "# configuration settings\n",
    "%matplotlib inline\n",
    "warnings.filterwarnings(\"ignore\")"
   ]
  },
  {
   "cell_type": "code",
   "execution_count": 276,
   "metadata": {},
   "outputs": [
    {
     "data": {
      "text/html": [
       "<div>\n",
       "<style scoped>\n",
       "    .dataframe tbody tr th:only-of-type {\n",
       "        vertical-align: middle;\n",
       "    }\n",
       "\n",
       "    .dataframe tbody tr th {\n",
       "        vertical-align: top;\n",
       "    }\n",
       "\n",
       "    .dataframe thead th {\n",
       "        text-align: right;\n",
       "    }\n",
       "</style>\n",
       "<table border=\"1\" class=\"dataframe\">\n",
       "  <thead>\n",
       "    <tr style=\"text-align: right;\">\n",
       "      <th></th>\n",
       "      <th>Comment_ID</th>\n",
       "      <th>User_ID</th>\n",
       "      <th>Date</th>\n",
       "      <th>Likes</th>\n",
       "      <th>Comment</th>\n",
       "      <th>Purchase</th>\n",
       "    </tr>\n",
       "  </thead>\n",
       "  <tbody>\n",
       "    <tr>\n",
       "      <th>79</th>\n",
       "      <td>80</td>\n",
       "      <td>USID064</td>\n",
       "      <td>04/14/20 09:22:00</td>\n",
       "      <td>0</td>\n",
       "      <td>@user ??</td>\n",
       "      <td>0</td>\n",
       "    </tr>\n",
       "    <tr>\n",
       "      <th>45</th>\n",
       "      <td>46</td>\n",
       "      <td>USID029</td>\n",
       "      <td>10/02/20 11:22:44</td>\n",
       "      <td>0</td>\n",
       "      <td>@user there goes your traveling bag usiseme si...</td>\n",
       "      <td>0</td>\n",
       "    </tr>\n",
       "    <tr>\n",
       "      <th>54</th>\n",
       "      <td>55</td>\n",
       "      <td>USID032</td>\n",
       "      <td>30/01/20 09:47:40</td>\n",
       "      <td>1</td>\n",
       "      <td>How much for this ??one</td>\n",
       "      <td>1</td>\n",
       "    </tr>\n",
       "    <tr>\n",
       "      <th>52</th>\n",
       "      <td>53</td>\n",
       "      <td>USID043</td>\n",
       "      <td>13/02/20 14:56:26</td>\n",
       "      <td>1</td>\n",
       "      <td>@user can i get one</td>\n",
       "      <td>1</td>\n",
       "    </tr>\n",
       "    <tr>\n",
       "      <th>60</th>\n",
       "      <td>61</td>\n",
       "      <td>USID045</td>\n",
       "      <td>29/01/20 20:26:16</td>\n",
       "      <td>2</td>\n",
       "      <td>Goodbag</td>\n",
       "      <td>0</td>\n",
       "    </tr>\n",
       "    <tr>\n",
       "      <th>39</th>\n",
       "      <td>40</td>\n",
       "      <td>USID057</td>\n",
       "      <td>22/02/20 11:38:11</td>\n",
       "      <td>0</td>\n",
       "      <td>Where's the shop at?</td>\n",
       "      <td>0</td>\n",
       "    </tr>\n",
       "    <tr>\n",
       "      <th>15</th>\n",
       "      <td>16</td>\n",
       "      <td>USID004</td>\n",
       "      <td>13/04/20 08:24:18</td>\n",
       "      <td>0</td>\n",
       "      <td>You still have this?</td>\n",
       "      <td>1</td>\n",
       "    </tr>\n",
       "    <tr>\n",
       "      <th>67</th>\n",
       "      <td>68</td>\n",
       "      <td>USID039</td>\n",
       "      <td>24/02/20 02:33:46</td>\n",
       "      <td>0</td>\n",
       "      <td>How much</td>\n",
       "      <td>0</td>\n",
       "    </tr>\n",
       "    <tr>\n",
       "      <th>2</th>\n",
       "      <td>3</td>\n",
       "      <td>USID031</td>\n",
       "      <td>13/04/20 08:05:29</td>\n",
       "      <td>1</td>\n",
       "      <td>How much is the belt ?</td>\n",
       "      <td>0</td>\n",
       "    </tr>\n",
       "    <tr>\n",
       "      <th>68</th>\n",
       "      <td>69</td>\n",
       "      <td>USID074</td>\n",
       "      <td>04/20/20 08:26:00</td>\n",
       "      <td>1</td>\n",
       "      <td>??????Ebu leta hizi, kwanza jeggings</td>\n",
       "      <td>0</td>\n",
       "    </tr>\n",
       "  </tbody>\n",
       "</table>\n",
       "</div>"
      ],
      "text/plain": [
       "    Comment_ID  User_ID               Date  Likes  \\\n",
       "79          80  USID064  04/14/20 09:22:00      0   \n",
       "45          46  USID029  10/02/20 11:22:44      0   \n",
       "54          55  USID032  30/01/20 09:47:40      1   \n",
       "52          53  USID043  13/02/20 14:56:26      1   \n",
       "60          61  USID045  29/01/20 20:26:16      2   \n",
       "39          40  USID057  22/02/20 11:38:11      0   \n",
       "15          16  USID004  13/04/20 08:24:18      0   \n",
       "67          68  USID039  24/02/20 02:33:46      0   \n",
       "2            3  USID031  13/04/20 08:05:29      1   \n",
       "68          69  USID074  04/20/20 08:26:00      1   \n",
       "\n",
       "                                              Comment  Purchase  \n",
       "79                                           @user ??         0  \n",
       "45  @user there goes your traveling bag usiseme si...         0  \n",
       "54                            How much for this ??one         1  \n",
       "52                                @user can i get one         1  \n",
       "60                                            Goodbag         0  \n",
       "39                               Where's the shop at?         0  \n",
       "15                               You still have this?         1  \n",
       "67                                           How much         0  \n",
       "2                              How much is the belt ?         0  \n",
       "68               ??????Ebu leta hizi, kwanza jeggings         0  "
      ]
     },
     "execution_count": 276,
     "metadata": {},
     "output_type": "execute_result"
    }
   ],
   "source": [
    "#Load the data and preview\n",
    "comments_df = pd.read_csv('post_comments.csv')\n",
    "comments_df.sample(10)"
   ]
  },
  {
   "cell_type": "code",
   "execution_count": 277,
   "metadata": {},
   "outputs": [
    {
     "data": {
      "text/plain": [
       "(87, 6)"
      ]
     },
     "execution_count": 277,
     "metadata": {},
     "output_type": "execute_result"
    }
   ],
   "source": [
    "comments_df.shape"
   ]
  },
  {
   "cell_type": "code",
   "execution_count": 278,
   "metadata": {},
   "outputs": [
    {
     "name": "stdout",
     "output_type": "stream",
     "text": [
      "<class 'pandas.core.frame.DataFrame'>\n",
      "RangeIndex: 87 entries, 0 to 86\n",
      "Data columns (total 6 columns):\n",
      "Comment_ID    87 non-null int64\n",
      "User_ID       87 non-null object\n",
      "Date          87 non-null object\n",
      "Likes         87 non-null int64\n",
      "Comment       87 non-null object\n",
      "Purchase      87 non-null int64\n",
      "dtypes: int64(3), object(3)\n",
      "memory usage: 4.2+ KB\n"
     ]
    }
   ],
   "source": [
    "comments_df.info()"
   ]
  },
  {
   "cell_type": "code",
   "execution_count": 279,
   "metadata": {},
   "outputs": [
    {
     "data": {
      "text/plain": [
       "Comment_ID    False\n",
       "User_ID       False\n",
       "Date          False\n",
       "Likes         False\n",
       "Comment       False\n",
       "Purchase      False\n",
       "dtype: bool"
      ]
     },
     "execution_count": 279,
     "metadata": {},
     "output_type": "execute_result"
    }
   ],
   "source": [
    "comments_df.isnull().any()"
   ]
  },
  {
   "cell_type": "code",
   "execution_count": 280,
   "metadata": {},
   "outputs": [
    {
     "data": {
      "text/plain": [
       "0    56\n",
       "1    31\n",
       "Name: Purchase, dtype: int64"
      ]
     },
     "execution_count": 280,
     "metadata": {},
     "output_type": "execute_result"
    }
   ],
   "source": [
    "comments_df.Purchase.value_counts()"
   ]
  },
  {
   "cell_type": "code",
   "execution_count": 281,
   "metadata": {
    "scrolled": true
   },
   "outputs": [
    {
     "data": {
      "text/html": [
       "<div>\n",
       "<style scoped>\n",
       "    .dataframe tbody tr th:only-of-type {\n",
       "        vertical-align: middle;\n",
       "    }\n",
       "\n",
       "    .dataframe tbody tr th {\n",
       "        vertical-align: top;\n",
       "    }\n",
       "\n",
       "    .dataframe thead th {\n",
       "        text-align: right;\n",
       "    }\n",
       "</style>\n",
       "<table border=\"1\" class=\"dataframe\">\n",
       "  <thead>\n",
       "    <tr style=\"text-align: right;\">\n",
       "      <th></th>\n",
       "      <th>Comment_ID</th>\n",
       "      <th>User_ID</th>\n",
       "      <th>Date</th>\n",
       "      <th>Likes</th>\n",
       "      <th>Comment</th>\n",
       "      <th>Purchase</th>\n",
       "    </tr>\n",
       "  </thead>\n",
       "  <tbody>\n",
       "    <tr>\n",
       "      <th>count</th>\n",
       "      <td>87.000000</td>\n",
       "      <td>87</td>\n",
       "      <td>87</td>\n",
       "      <td>87.000000</td>\n",
       "      <td>87</td>\n",
       "      <td>87.000000</td>\n",
       "    </tr>\n",
       "    <tr>\n",
       "      <th>unique</th>\n",
       "      <td>NaN</td>\n",
       "      <td>68</td>\n",
       "      <td>87</td>\n",
       "      <td>NaN</td>\n",
       "      <td>67</td>\n",
       "      <td>NaN</td>\n",
       "    </tr>\n",
       "    <tr>\n",
       "      <th>top</th>\n",
       "      <td>NaN</td>\n",
       "      <td>USID021</td>\n",
       "      <td>04/20/20 10:27:00</td>\n",
       "      <td>NaN</td>\n",
       "      <td>How much</td>\n",
       "      <td>NaN</td>\n",
       "    </tr>\n",
       "    <tr>\n",
       "      <th>freq</th>\n",
       "      <td>NaN</td>\n",
       "      <td>3</td>\n",
       "      <td>1</td>\n",
       "      <td>NaN</td>\n",
       "      <td>12</td>\n",
       "      <td>NaN</td>\n",
       "    </tr>\n",
       "    <tr>\n",
       "      <th>mean</th>\n",
       "      <td>44.000000</td>\n",
       "      <td>NaN</td>\n",
       "      <td>NaN</td>\n",
       "      <td>0.218391</td>\n",
       "      <td>NaN</td>\n",
       "      <td>0.356322</td>\n",
       "    </tr>\n",
       "    <tr>\n",
       "      <th>std</th>\n",
       "      <td>25.258662</td>\n",
       "      <td>NaN</td>\n",
       "      <td>NaN</td>\n",
       "      <td>0.468180</td>\n",
       "      <td>NaN</td>\n",
       "      <td>0.481688</td>\n",
       "    </tr>\n",
       "    <tr>\n",
       "      <th>min</th>\n",
       "      <td>1.000000</td>\n",
       "      <td>NaN</td>\n",
       "      <td>NaN</td>\n",
       "      <td>0.000000</td>\n",
       "      <td>NaN</td>\n",
       "      <td>0.000000</td>\n",
       "    </tr>\n",
       "    <tr>\n",
       "      <th>25%</th>\n",
       "      <td>22.500000</td>\n",
       "      <td>NaN</td>\n",
       "      <td>NaN</td>\n",
       "      <td>0.000000</td>\n",
       "      <td>NaN</td>\n",
       "      <td>0.000000</td>\n",
       "    </tr>\n",
       "    <tr>\n",
       "      <th>50%</th>\n",
       "      <td>44.000000</td>\n",
       "      <td>NaN</td>\n",
       "      <td>NaN</td>\n",
       "      <td>0.000000</td>\n",
       "      <td>NaN</td>\n",
       "      <td>0.000000</td>\n",
       "    </tr>\n",
       "    <tr>\n",
       "      <th>75%</th>\n",
       "      <td>65.500000</td>\n",
       "      <td>NaN</td>\n",
       "      <td>NaN</td>\n",
       "      <td>0.000000</td>\n",
       "      <td>NaN</td>\n",
       "      <td>1.000000</td>\n",
       "    </tr>\n",
       "    <tr>\n",
       "      <th>max</th>\n",
       "      <td>87.000000</td>\n",
       "      <td>NaN</td>\n",
       "      <td>NaN</td>\n",
       "      <td>2.000000</td>\n",
       "      <td>NaN</td>\n",
       "      <td>1.000000</td>\n",
       "    </tr>\n",
       "  </tbody>\n",
       "</table>\n",
       "</div>"
      ],
      "text/plain": [
       "        Comment_ID  User_ID               Date      Likes   Comment   Purchase\n",
       "count    87.000000       87                 87  87.000000        87  87.000000\n",
       "unique         NaN       68                 87        NaN        67        NaN\n",
       "top            NaN  USID021  04/20/20 10:27:00        NaN  How much        NaN\n",
       "freq           NaN        3                  1        NaN        12        NaN\n",
       "mean     44.000000      NaN                NaN   0.218391       NaN   0.356322\n",
       "std      25.258662      NaN                NaN   0.468180       NaN   0.481688\n",
       "min       1.000000      NaN                NaN   0.000000       NaN   0.000000\n",
       "25%      22.500000      NaN                NaN   0.000000       NaN   0.000000\n",
       "50%      44.000000      NaN                NaN   0.000000       NaN   0.000000\n",
       "75%      65.500000      NaN                NaN   0.000000       NaN   1.000000\n",
       "max      87.000000      NaN                NaN   2.000000       NaN   1.000000"
      ]
     },
     "execution_count": 281,
     "metadata": {},
     "output_type": "execute_result"
    }
   ],
   "source": [
    "comments_df.describe(include = 'all')"
   ]
  },
  {
   "cell_type": "markdown",
   "metadata": {},
   "source": [
    "#### Exploratory Data Analysis"
   ]
  },
  {
   "cell_type": "code",
   "execution_count": 282,
   "metadata": {},
   "outputs": [
    {
     "data": {
      "text/plain": [
       "<matplotlib.axes._subplots.AxesSubplot at 0x2ccf1a777b8>"
      ]
     },
     "execution_count": 282,
     "metadata": {},
     "output_type": "execute_result"
    },
    {
     "data": {
      "image/png": "[encoded data removed]",
      "text/plain": [
       "<Figure size 720x432 with 1 Axes>"
      ]
     },
     "metadata": {
      "needs_background": "light"
     },
     "output_type": "display_data"
    }
   ],
   "source": [
    "#Plotting out the classification as either purchased or not purchased\n",
    "# 0 representing no purchase while 1 represents purchase\n",
    "\n",
    "plt.figure(figsize=(10,6))\n",
    "plt.title('Comment counts',loc ='center',pad=None,\n",
    "         fontdict={'fontname':'Comic Sans MS','fontsize':20,'color':'purple'})\n",
    "\n",
    "sns.countplot(comments_df['Purchase'])\n"
   ]
  },
  {
   "cell_type": "code",
   "execution_count": 283,
   "metadata": {},
   "outputs": [
    {
     "data": {
      "image/png": "[encoded data removed]",
      "text/plain": [
       "<Figure size 720x432 with 1 Axes>"
      ]
     },
     "metadata": {
      "needs_background": "light"
     },
     "output_type": "display_data"
    }
   ],
   "source": [
    "#Plotting out the percentages of the counts\n",
    "# 0 represents no purchase\n",
    "# 1 represents purchase\n",
    "plt.figure(figsize=(10,6))\n",
    "ax = (pd.Series(comments_df['Purchase']).value_counts(normalize=True, sort=False)*100).plot.bar()\n",
    "ax.set(ylabel=\"Percent\")\n",
    "plt.show()"
   ]
  },
  {
   "cell_type": "code",
   "execution_count": 284,
   "metadata": {},
   "outputs": [
    {
     "data": {
      "text/html": [
       "<style  type=\"text/css\" >\n",
       "    #T_f62f164c_8ef4_11ea_8af6_c03896493c4erow0_col1 {\n",
       "            background-color:  #08306b;\n",
       "            color:  #f1f1f1;\n",
       "        }    #T_f62f164c_8ef4_11ea_8af6_c03896493c4erow0_col2 {\n",
       "            background-color:  #f7fbff;\n",
       "            color:  #000000;\n",
       "        }    #T_f62f164c_8ef4_11ea_8af6_c03896493c4erow1_col1 {\n",
       "            background-color:  #08306b;\n",
       "            color:  #f1f1f1;\n",
       "        }    #T_f62f164c_8ef4_11ea_8af6_c03896493c4erow1_col2 {\n",
       "            background-color:  #08306b;\n",
       "            color:  #f1f1f1;\n",
       "        }    #T_f62f164c_8ef4_11ea_8af6_c03896493c4erow2_col1 {\n",
       "            background-color:  #08306b;\n",
       "            color:  #f1f1f1;\n",
       "        }    #T_f62f164c_8ef4_11ea_8af6_c03896493c4erow2_col2 {\n",
       "            background-color:  #08306b;\n",
       "            color:  #f1f1f1;\n",
       "        }    #T_f62f164c_8ef4_11ea_8af6_c03896493c4erow3_col1 {\n",
       "            background-color:  #08306b;\n",
       "            color:  #f1f1f1;\n",
       "        }    #T_f62f164c_8ef4_11ea_8af6_c03896493c4erow3_col2 {\n",
       "            background-color:  #08306b;\n",
       "            color:  #f1f1f1;\n",
       "        }    #T_f62f164c_8ef4_11ea_8af6_c03896493c4erow4_col1 {\n",
       "            background-color:  #f7fbff;\n",
       "            color:  #000000;\n",
       "        }    #T_f62f164c_8ef4_11ea_8af6_c03896493c4erow4_col2 {\n",
       "            background-color:  #f7fbff;\n",
       "            color:  #000000;\n",
       "        }    #T_f62f164c_8ef4_11ea_8af6_c03896493c4erow5_col1 {\n",
       "            background-color:  #f7fbff;\n",
       "            color:  #000000;\n",
       "        }    #T_f62f164c_8ef4_11ea_8af6_c03896493c4erow5_col2 {\n",
       "            background-color:  #f7fbff;\n",
       "            color:  #000000;\n",
       "        }    #T_f62f164c_8ef4_11ea_8af6_c03896493c4erow6_col1 {\n",
       "            background-color:  #f7fbff;\n",
       "            color:  #000000;\n",
       "        }    #T_f62f164c_8ef4_11ea_8af6_c03896493c4erow6_col2 {\n",
       "            background-color:  #08306b;\n",
       "            color:  #f1f1f1;\n",
       "        }    #T_f62f164c_8ef4_11ea_8af6_c03896493c4erow7_col1 {\n",
       "            background-color:  #f7fbff;\n",
       "            color:  #000000;\n",
       "        }    #T_f62f164c_8ef4_11ea_8af6_c03896493c4erow7_col2 {\n",
       "            background-color:  #f7fbff;\n",
       "            color:  #000000;\n",
       "        }    #T_f62f164c_8ef4_11ea_8af6_c03896493c4erow8_col1 {\n",
       "            background-color:  #f7fbff;\n",
       "            color:  #000000;\n",
       "        }    #T_f62f164c_8ef4_11ea_8af6_c03896493c4erow8_col2 {\n",
       "            background-color:  #08306b;\n",
       "            color:  #f1f1f1;\n",
       "        }    #T_f62f164c_8ef4_11ea_8af6_c03896493c4erow9_col1 {\n",
       "            background-color:  #f7fbff;\n",
       "            color:  #000000;\n",
       "        }    #T_f62f164c_8ef4_11ea_8af6_c03896493c4erow9_col2 {\n",
       "            background-color:  #f7fbff;\n",
       "            color:  #000000;\n",
       "        }    #T_f62f164c_8ef4_11ea_8af6_c03896493c4erow10_col1 {\n",
       "            background-color:  #f7fbff;\n",
       "            color:  #000000;\n",
       "        }    #T_f62f164c_8ef4_11ea_8af6_c03896493c4erow10_col2 {\n",
       "            background-color:  #f7fbff;\n",
       "            color:  #000000;\n",
       "        }    #T_f62f164c_8ef4_11ea_8af6_c03896493c4erow11_col1 {\n",
       "            background-color:  #f7fbff;\n",
       "            color:  #000000;\n",
       "        }    #T_f62f164c_8ef4_11ea_8af6_c03896493c4erow11_col2 {\n",
       "            background-color:  #f7fbff;\n",
       "            color:  #000000;\n",
       "        }    #T_f62f164c_8ef4_11ea_8af6_c03896493c4erow12_col1 {\n",
       "            background-color:  #f7fbff;\n",
       "            color:  #000000;\n",
       "        }    #T_f62f164c_8ef4_11ea_8af6_c03896493c4erow12_col2 {\n",
       "            background-color:  #f7fbff;\n",
       "            color:  #000000;\n",
       "        }    #T_f62f164c_8ef4_11ea_8af6_c03896493c4erow13_col1 {\n",
       "            background-color:  #f7fbff;\n",
       "            color:  #000000;\n",
       "        }    #T_f62f164c_8ef4_11ea_8af6_c03896493c4erow13_col2 {\n",
       "            background-color:  #08306b;\n",
       "            color:  #f1f1f1;\n",
       "        }    #T_f62f164c_8ef4_11ea_8af6_c03896493c4erow14_col1 {\n",
       "            background-color:  #f7fbff;\n",
       "            color:  #000000;\n",
       "        }    #T_f62f164c_8ef4_11ea_8af6_c03896493c4erow14_col2 {\n",
       "            background-color:  #08306b;\n",
       "            color:  #f1f1f1;\n",
       "        }</style><table id=\"T_f62f164c_8ef4_11ea_8af6_c03896493c4e\" ><thead>    <tr>        <th class=\"blank level0\" ></th>        <th class=\"col_heading level0 col0\" >User_ID</th>        <th class=\"col_heading level0 col1\" >count</th>        <th class=\"col_heading level0 col2\" >Purchase</th>    </tr></thead><tbody>\n",
       "                <tr>\n",
       "                        <th id=\"T_f62f164c_8ef4_11ea_8af6_c03896493c4elevel0_row0\" class=\"row_heading level0 row0\" >0</th>\n",
       "                        <td id=\"T_f62f164c_8ef4_11ea_8af6_c03896493c4erow0_col0\" class=\"data row0 col0\" >USID031</td>\n",
       "                        <td id=\"T_f62f164c_8ef4_11ea_8af6_c03896493c4erow0_col1\" class=\"data row0 col1\" >3</td>\n",
       "                        <td id=\"T_f62f164c_8ef4_11ea_8af6_c03896493c4erow0_col2\" class=\"data row0 col2\" >0</td>\n",
       "            </tr>\n",
       "            <tr>\n",
       "                        <th id=\"T_f62f164c_8ef4_11ea_8af6_c03896493c4elevel0_row1\" class=\"row_heading level0 row1\" >1</th>\n",
       "                        <td id=\"T_f62f164c_8ef4_11ea_8af6_c03896493c4erow1_col0\" class=\"data row1 col0\" >USID021</td>\n",
       "                        <td id=\"T_f62f164c_8ef4_11ea_8af6_c03896493c4erow1_col1\" class=\"data row1 col1\" >3</td>\n",
       "                        <td id=\"T_f62f164c_8ef4_11ea_8af6_c03896493c4erow1_col2\" class=\"data row1 col2\" >1</td>\n",
       "            </tr>\n",
       "            <tr>\n",
       "                        <th id=\"T_f62f164c_8ef4_11ea_8af6_c03896493c4elevel0_row2\" class=\"row_heading level0 row2\" >2</th>\n",
       "                        <td id=\"T_f62f164c_8ef4_11ea_8af6_c03896493c4erow2_col0\" class=\"data row2 col0\" >USID033</td>\n",
       "                        <td id=\"T_f62f164c_8ef4_11ea_8af6_c03896493c4erow2_col1\" class=\"data row2 col1\" >3</td>\n",
       "                        <td id=\"T_f62f164c_8ef4_11ea_8af6_c03896493c4erow2_col2\" class=\"data row2 col2\" >1</td>\n",
       "            </tr>\n",
       "            <tr>\n",
       "                        <th id=\"T_f62f164c_8ef4_11ea_8af6_c03896493c4elevel0_row3\" class=\"row_heading level0 row3\" >3</th>\n",
       "                        <td id=\"T_f62f164c_8ef4_11ea_8af6_c03896493c4erow3_col0\" class=\"data row3 col0\" >USID032</td>\n",
       "                        <td id=\"T_f62f164c_8ef4_11ea_8af6_c03896493c4erow3_col1\" class=\"data row3 col1\" >3</td>\n",
       "                        <td id=\"T_f62f164c_8ef4_11ea_8af6_c03896493c4erow3_col2\" class=\"data row3 col2\" >1</td>\n",
       "            </tr>\n",
       "            <tr>\n",
       "                        <th id=\"T_f62f164c_8ef4_11ea_8af6_c03896493c4elevel0_row4\" class=\"row_heading level0 row4\" >4</th>\n",
       "                        <td id=\"T_f62f164c_8ef4_11ea_8af6_c03896493c4erow4_col0\" class=\"data row4 col0\" >USID007</td>\n",
       "                        <td id=\"T_f62f164c_8ef4_11ea_8af6_c03896493c4erow4_col1\" class=\"data row4 col1\" >2</td>\n",
       "                        <td id=\"T_f62f164c_8ef4_11ea_8af6_c03896493c4erow4_col2\" class=\"data row4 col2\" >0</td>\n",
       "            </tr>\n",
       "            <tr>\n",
       "                        <th id=\"T_f62f164c_8ef4_11ea_8af6_c03896493c4elevel0_row5\" class=\"row_heading level0 row5\" >5</th>\n",
       "                        <td id=\"T_f62f164c_8ef4_11ea_8af6_c03896493c4erow5_col0\" class=\"data row5 col0\" >USID010</td>\n",
       "                        <td id=\"T_f62f164c_8ef4_11ea_8af6_c03896493c4erow5_col1\" class=\"data row5 col1\" >2</td>\n",
       "                        <td id=\"T_f62f164c_8ef4_11ea_8af6_c03896493c4erow5_col2\" class=\"data row5 col2\" >0</td>\n",
       "            </tr>\n",
       "            <tr>\n",
       "                        <th id=\"T_f62f164c_8ef4_11ea_8af6_c03896493c4elevel0_row6\" class=\"row_heading level0 row6\" >6</th>\n",
       "                        <td id=\"T_f62f164c_8ef4_11ea_8af6_c03896493c4erow6_col0\" class=\"data row6 col0\" >USID016</td>\n",
       "                        <td id=\"T_f62f164c_8ef4_11ea_8af6_c03896493c4erow6_col1\" class=\"data row6 col1\" >2</td>\n",
       "                        <td id=\"T_f62f164c_8ef4_11ea_8af6_c03896493c4erow6_col2\" class=\"data row6 col2\" >1</td>\n",
       "            </tr>\n",
       "            <tr>\n",
       "                        <th id=\"T_f62f164c_8ef4_11ea_8af6_c03896493c4elevel0_row7\" class=\"row_heading level0 row7\" >7</th>\n",
       "                        <td id=\"T_f62f164c_8ef4_11ea_8af6_c03896493c4erow7_col0\" class=\"data row7 col0\" >USID002</td>\n",
       "                        <td id=\"T_f62f164c_8ef4_11ea_8af6_c03896493c4erow7_col1\" class=\"data row7 col1\" >2</td>\n",
       "                        <td id=\"T_f62f164c_8ef4_11ea_8af6_c03896493c4erow7_col2\" class=\"data row7 col2\" >0</td>\n",
       "            </tr>\n",
       "            <tr>\n",
       "                        <th id=\"T_f62f164c_8ef4_11ea_8af6_c03896493c4elevel0_row8\" class=\"row_heading level0 row8\" >8</th>\n",
       "                        <td id=\"T_f62f164c_8ef4_11ea_8af6_c03896493c4erow8_col0\" class=\"data row8 col0\" >USID004</td>\n",
       "                        <td id=\"T_f62f164c_8ef4_11ea_8af6_c03896493c4erow8_col1\" class=\"data row8 col1\" >2</td>\n",
       "                        <td id=\"T_f62f164c_8ef4_11ea_8af6_c03896493c4erow8_col2\" class=\"data row8 col2\" >1</td>\n",
       "            </tr>\n",
       "            <tr>\n",
       "                        <th id=\"T_f62f164c_8ef4_11ea_8af6_c03896493c4elevel0_row9\" class=\"row_heading level0 row9\" >9</th>\n",
       "                        <td id=\"T_f62f164c_8ef4_11ea_8af6_c03896493c4erow9_col0\" class=\"data row9 col0\" >USID014</td>\n",
       "                        <td id=\"T_f62f164c_8ef4_11ea_8af6_c03896493c4erow9_col1\" class=\"data row9 col1\" >2</td>\n",
       "                        <td id=\"T_f62f164c_8ef4_11ea_8af6_c03896493c4erow9_col2\" class=\"data row9 col2\" >0</td>\n",
       "            </tr>\n",
       "            <tr>\n",
       "                        <th id=\"T_f62f164c_8ef4_11ea_8af6_c03896493c4elevel0_row10\" class=\"row_heading level0 row10\" >10</th>\n",
       "                        <td id=\"T_f62f164c_8ef4_11ea_8af6_c03896493c4erow10_col0\" class=\"data row10 col0\" >USID043</td>\n",
       "                        <td id=\"T_f62f164c_8ef4_11ea_8af6_c03896493c4erow10_col1\" class=\"data row10 col1\" >2</td>\n",
       "                        <td id=\"T_f62f164c_8ef4_11ea_8af6_c03896493c4erow10_col2\" class=\"data row10 col2\" >0</td>\n",
       "            </tr>\n",
       "            <tr>\n",
       "                        <th id=\"T_f62f164c_8ef4_11ea_8af6_c03896493c4elevel0_row11\" class=\"row_heading level0 row11\" >11</th>\n",
       "                        <td id=\"T_f62f164c_8ef4_11ea_8af6_c03896493c4erow11_col0\" class=\"data row11 col0\" >USID074</td>\n",
       "                        <td id=\"T_f62f164c_8ef4_11ea_8af6_c03896493c4erow11_col1\" class=\"data row11 col1\" >2</td>\n",
       "                        <td id=\"T_f62f164c_8ef4_11ea_8af6_c03896493c4erow11_col2\" class=\"data row11 col2\" >0</td>\n",
       "            </tr>\n",
       "            <tr>\n",
       "                        <th id=\"T_f62f164c_8ef4_11ea_8af6_c03896493c4elevel0_row12\" class=\"row_heading level0 row12\" >12</th>\n",
       "                        <td id=\"T_f62f164c_8ef4_11ea_8af6_c03896493c4erow12_col0\" class=\"data row12 col0\" >USID064</td>\n",
       "                        <td id=\"T_f62f164c_8ef4_11ea_8af6_c03896493c4erow12_col1\" class=\"data row12 col1\" >2</td>\n",
       "                        <td id=\"T_f62f164c_8ef4_11ea_8af6_c03896493c4erow12_col2\" class=\"data row12 col2\" >0</td>\n",
       "            </tr>\n",
       "            <tr>\n",
       "                        <th id=\"T_f62f164c_8ef4_11ea_8af6_c03896493c4elevel0_row13\" class=\"row_heading level0 row13\" >13</th>\n",
       "                        <td id=\"T_f62f164c_8ef4_11ea_8af6_c03896493c4erow13_col0\" class=\"data row13 col0\" >USID072</td>\n",
       "                        <td id=\"T_f62f164c_8ef4_11ea_8af6_c03896493c4erow13_col1\" class=\"data row13 col1\" >2</td>\n",
       "                        <td id=\"T_f62f164c_8ef4_11ea_8af6_c03896493c4erow13_col2\" class=\"data row13 col2\" >1</td>\n",
       "            </tr>\n",
       "            <tr>\n",
       "                        <th id=\"T_f62f164c_8ef4_11ea_8af6_c03896493c4elevel0_row14\" class=\"row_heading level0 row14\" >14</th>\n",
       "                        <td id=\"T_f62f164c_8ef4_11ea_8af6_c03896493c4erow14_col0\" class=\"data row14 col0\" >USID063</td>\n",
       "                        <td id=\"T_f62f164c_8ef4_11ea_8af6_c03896493c4erow14_col1\" class=\"data row14 col1\" >2</td>\n",
       "                        <td id=\"T_f62f164c_8ef4_11ea_8af6_c03896493c4erow14_col2\" class=\"data row14 col2\" >1</td>\n",
       "            </tr>\n",
       "    </tbody></table>"
      ],
      "text/plain": [
       "<pandas.io.formats.style.Styler at 0x2ccf2170cf8>"
      ]
     },
     "execution_count": 284,
     "metadata": {},
     "output_type": "execute_result"
    }
   ],
   "source": [
    "#Perform a count to get the number of comments per user\n",
    "# Can the number of comments made by a user dictate whether or not a purchase will be made?\n",
    "\n",
    "#Use Counter to calculate the number of comments per user\n",
    "from collections import Counter\n",
    "users = Counter([item for item in comments_df['User_ID']])\n",
    "user_count = pd.DataFrame(users.most_common(15))\n",
    "user_count.columns = ['User_ID','count']\n",
    "\n",
    "#A function to extract the purchase status and merge with the no of comments per user dataframe\n",
    "def get_purchase_status():\n",
    "    purchase_batch = comments_df.drop_duplicates(['User_ID'])\n",
    "    drop_cols = ['Comment_ID','Date','Likes','Comment']\n",
    "    purchase_batch = purchase_batch.drop(drop_cols, axis = 1)\n",
    "    \n",
    "    return purchase_batch\n",
    "            \n",
    "merging_df= get_purchase_status()\n",
    "merged_df = pd.merge(user_count,merging_df, on ='User_ID', how = 'inner')\n",
    "\n",
    "#Display the result\n",
    "merged_df.style.background_gradient(cmap='Blues')"
   ]
  },
  {
   "cell_type": "markdown",
   "metadata": {},
   "source": [
    "#### i)Text Cleaning"
   ]
  },
  {
   "cell_type": "code",
   "execution_count": 285,
   "metadata": {},
   "outputs": [
    {
     "data": {
      "text/html": [
       "<div>\n",
       "<style scoped>\n",
       "    .dataframe tbody tr th:only-of-type {\n",
       "        vertical-align: middle;\n",
       "    }\n",
       "\n",
       "    .dataframe tbody tr th {\n",
       "        vertical-align: top;\n",
       "    }\n",
       "\n",
       "    .dataframe thead th {\n",
       "        text-align: right;\n",
       "    }\n",
       "</style>\n",
       "<table border=\"1\" class=\"dataframe\">\n",
       "  <thead>\n",
       "    <tr style=\"text-align: right;\">\n",
       "      <th></th>\n",
       "      <th>Comment_ID</th>\n",
       "      <th>User_ID</th>\n",
       "      <th>Date</th>\n",
       "      <th>Likes</th>\n",
       "      <th>Comment</th>\n",
       "      <th>Purchase</th>\n",
       "    </tr>\n",
       "  </thead>\n",
       "  <tbody>\n",
       "    <tr>\n",
       "      <th>0</th>\n",
       "      <td>1</td>\n",
       "      <td>USID005</td>\n",
       "      <td>13/04/20 08:24:59</td>\n",
       "      <td>0</td>\n",
       "      <td>This too?</td>\n",
       "      <td>0</td>\n",
       "    </tr>\n",
       "    <tr>\n",
       "      <th>1</th>\n",
       "      <td>2</td>\n",
       "      <td>USID026</td>\n",
       "      <td>13/04/20 17:13:14</td>\n",
       "      <td>0</td>\n",
       "      <td>How mcih</td>\n",
       "      <td>0</td>\n",
       "    </tr>\n",
       "    <tr>\n",
       "      <th>2</th>\n",
       "      <td>3</td>\n",
       "      <td>USID031</td>\n",
       "      <td>13/04/20 08:05:29</td>\n",
       "      <td>1</td>\n",
       "      <td>How much is the belt ?</td>\n",
       "      <td>0</td>\n",
       "    </tr>\n",
       "    <tr>\n",
       "      <th>3</th>\n",
       "      <td>4</td>\n",
       "      <td>USID022</td>\n",
       "      <td>16/04/20 12:14:54</td>\n",
       "      <td>0</td>\n",
       "      <td>Is this still available?</td>\n",
       "      <td>1</td>\n",
       "    </tr>\n",
       "    <tr>\n",
       "      <th>4</th>\n",
       "      <td>5</td>\n",
       "      <td>USID021</td>\n",
       "      <td>16/04/20 13:19:23</td>\n",
       "      <td>0</td>\n",
       "      <td>@user hey... the belt</td>\n",
       "      <td>1</td>\n",
       "    </tr>\n",
       "  </tbody>\n",
       "</table>\n",
       "</div>"
      ],
      "text/plain": [
       "   Comment_ID  User_ID               Date  Likes                   Comment  \\\n",
       "0           1  USID005  13/04/20 08:24:59      0                 This too?   \n",
       "1           2  USID026  13/04/20 17:13:14      0                  How mcih   \n",
       "2           3  USID031  13/04/20 08:05:29      1    How much is the belt ?   \n",
       "3           4  USID022  16/04/20 12:14:54      0  Is this still available?   \n",
       "4           5  USID021  16/04/20 13:19:23      0     @user hey... the belt   \n",
       "\n",
       "   Purchase  \n",
       "0         0  \n",
       "1         0  \n",
       "2         0  \n",
       "3         1  \n",
       "4         1  "
      ]
     },
     "execution_count": 285,
     "metadata": {},
     "output_type": "execute_result"
    }
   ],
   "source": [
    "# Create a new dataframe 'data' to store the changes to our dataset.\n",
    "data = comments_df\n",
    "data.head(5)"
   ]
  },
  {
   "cell_type": "code",
   "execution_count": 286,
   "metadata": {},
   "outputs": [],
   "source": [
    "# Initialize empty array \n",
    "# to append clean text  \n",
    "corpus = []  "
   ]
  },
  {
   "cell_type": "code",
   "execution_count": 287,
   "metadata": {},
   "outputs": [],
   "source": [
    "# 87 (comments) rows to clean \n",
    "for i in range(0, 87):  \n",
    "      \n",
    "    # column : \"Review\", row ith \n",
    "    comment = re.sub('[^a-zA-Z]', ' ', data['Comment'][i])  \n",
    "      \n",
    "    # convert all cases to lower cases \n",
    "    comment = comment.lower()  \n",
    "      \n",
    "    # split to array(default delimiter is \" \") \n",
    "    comment = comment.split()  \n",
    "      \n",
    "    # creating PorterStemmer object to \n",
    "    # take main stem of each word \n",
    "    ps = PorterStemmer()  \n",
    "      \n",
    "    # loop for stemming each word \n",
    "    # in string array at ith row     \n",
    "    comment = [ps.stem(word) for word in comment \n",
    "                if not word in set(stopwords.words('english'))]  \n",
    "                  \n",
    "    # rejoin all string array elements \n",
    "    # to create back into a string \n",
    "    comment = ' '.join(comment)   \n",
    "    \n",
    "    # append each string to create \n",
    "    # array of clean text  \n",
    "    corpus.append(comment)"
   ]
  },
  {
   "cell_type": "code",
   "execution_count": 288,
   "metadata": {},
   "outputs": [
    {
     "data": {
      "text/html": [
       "<div>\n",
       "<style scoped>\n",
       "    .dataframe tbody tr th:only-of-type {\n",
       "        vertical-align: middle;\n",
       "    }\n",
       "\n",
       "    .dataframe tbody tr th {\n",
       "        vertical-align: top;\n",
       "    }\n",
       "\n",
       "    .dataframe thead th {\n",
       "        text-align: right;\n",
       "    }\n",
       "</style>\n",
       "<table border=\"1\" class=\"dataframe\">\n",
       "  <thead>\n",
       "    <tr style=\"text-align: right;\">\n",
       "      <th></th>\n",
       "      <th>Comment_ID</th>\n",
       "      <th>User_ID</th>\n",
       "      <th>Date</th>\n",
       "      <th>Likes</th>\n",
       "      <th>Comment</th>\n",
       "      <th>Purchase</th>\n",
       "      <th>selected_text</th>\n",
       "    </tr>\n",
       "  </thead>\n",
       "  <tbody>\n",
       "    <tr>\n",
       "      <th>0</th>\n",
       "      <td>1</td>\n",
       "      <td>USID005</td>\n",
       "      <td>13/04/20 08:24:59</td>\n",
       "      <td>0</td>\n",
       "      <td>This too?</td>\n",
       "      <td>0</td>\n",
       "      <td></td>\n",
       "    </tr>\n",
       "    <tr>\n",
       "      <th>1</th>\n",
       "      <td>2</td>\n",
       "      <td>USID026</td>\n",
       "      <td>13/04/20 17:13:14</td>\n",
       "      <td>0</td>\n",
       "      <td>How mcih</td>\n",
       "      <td>0</td>\n",
       "      <td>mcih</td>\n",
       "    </tr>\n",
       "    <tr>\n",
       "      <th>2</th>\n",
       "      <td>3</td>\n",
       "      <td>USID031</td>\n",
       "      <td>13/04/20 08:05:29</td>\n",
       "      <td>1</td>\n",
       "      <td>How much is the belt ?</td>\n",
       "      <td>0</td>\n",
       "      <td>much belt</td>\n",
       "    </tr>\n",
       "    <tr>\n",
       "      <th>3</th>\n",
       "      <td>4</td>\n",
       "      <td>USID022</td>\n",
       "      <td>16/04/20 12:14:54</td>\n",
       "      <td>0</td>\n",
       "      <td>Is this still available?</td>\n",
       "      <td>1</td>\n",
       "      <td>still avail</td>\n",
       "    </tr>\n",
       "    <tr>\n",
       "      <th>4</th>\n",
       "      <td>5</td>\n",
       "      <td>USID021</td>\n",
       "      <td>16/04/20 13:19:23</td>\n",
       "      <td>0</td>\n",
       "      <td>@user hey... the belt</td>\n",
       "      <td>1</td>\n",
       "      <td>user hey belt</td>\n",
       "    </tr>\n",
       "  </tbody>\n",
       "</table>\n",
       "</div>"
      ],
      "text/plain": [
       "   Comment_ID  User_ID               Date  Likes                   Comment  \\\n",
       "0           1  USID005  13/04/20 08:24:59      0                 This too?   \n",
       "1           2  USID026  13/04/20 17:13:14      0                  How mcih   \n",
       "2           3  USID031  13/04/20 08:05:29      1    How much is the belt ?   \n",
       "3           4  USID022  16/04/20 12:14:54      0  Is this still available?   \n",
       "4           5  USID021  16/04/20 13:19:23      0     @user hey... the belt   \n",
       "\n",
       "   Purchase  selected_text  \n",
       "0         0                 \n",
       "1         0           mcih  \n",
       "2         0      much belt  \n",
       "3         1    still avail  \n",
       "4         1  user hey belt  "
      ]
     },
     "execution_count": 288,
     "metadata": {},
     "output_type": "execute_result"
    }
   ],
   "source": [
    "#Create a new column 'selected_text' in the data dataframe and append corpus to it \n",
    "data['selected_text'] = corpus\n",
    "data.head(5)"
   ]
  },
  {
   "cell_type": "markdown",
   "metadata": {},
   "source": [
    "#### Data Visualization"
   ]
  },
  {
   "cell_type": "code",
   "execution_count": 289,
   "metadata": {},
   "outputs": [],
   "source": [
    "#Visualize the words and Phrase through WordCloud.\n",
    "# Let's see the commonly used for both purchase and no purchase"
   ]
  },
  {
   "cell_type": "code",
   "execution_count": 290,
   "metadata": {},
   "outputs": [],
   "source": [
    "def plotWordClouds(df_text,sentiment):\n",
    "    text = \" \".join(str(tmptext) for tmptext in df_text)\n",
    "    text = text.lower()\n",
    "    wordcloud = WordCloud(\n",
    "        background_color='white',\n",
    "        stopwords=stopwords,\n",
    "        max_words=300,\n",
    "        max_font_size=40, \n",
    "        scale=3,\n",
    "        random_state=1 # chosen at random by flipping a coin; it was heads\n",
    "    ).generate(text)\n",
    "  \n",
    "    # plot the WordCloud image                        \n",
    "    plt.figure(figsize = (8, 8), facecolor = None) \n",
    "    plt.imshow(wordcloud) \n",
    "    plt.axis(\"off\") \n",
    "    plt.tight_layout(pad = 0) \n",
    "    plt.title('WordCloud - ' + sentiment)\n",
    "    plt.show()     "
   ]
  },
  {
   "cell_type": "code",
   "execution_count": 291,
   "metadata": {},
   "outputs": [],
   "source": [
    "from wordcloud import WordCloud, STOPWORDS\n",
    "stopwords = set(STOPWORDS)"
   ]
  },
  {
   "cell_type": "code",
   "execution_count": 292,
   "metadata": {},
   "outputs": [
    {
     "data": {
      "image/png": "[encoded data removed]",
      "text/plain": [
       "<Figure size 576x576 with 1 Axes>"
      ]
     },
     "metadata": {
      "needs_background": "light"
     },
     "output_type": "display_data"
    }
   ],
   "source": [
    "# Visualizing the commonly used words for Purchase\n",
    "subtext = data[data['Purchase']==1]['Comment']\n",
    "plotWordClouds(subtext,'purchase')"
   ]
  },
  {
   "cell_type": "code",
   "execution_count": 293,
   "metadata": {},
   "outputs": [
    {
     "data": {
      "image/png": "[encoded data removed]",
      "text/plain": [
       "<Figure size 576x576 with 1 Axes>"
      ]
     },
     "metadata": {
      "needs_background": "light"
     },
     "output_type": "display_data"
    }
   ],
   "source": [
    "#Visualizing the commonly used words for no purchase\n",
    "subtext = data[data['Purchase']==0]['Comment']\n",
    "plotWordClouds(subtext,'no purchase')"
   ]
  },
  {
   "cell_type": "code",
   "execution_count": 294,
   "metadata": {},
   "outputs": [
    {
     "data": {
      "text/html": [
       "<style  type=\"text/css\" >\n",
       "    #T_f7e13cc0_8ef4_11ea_96df_c03896493c4erow0_col1 {\n",
       "            background-color:  #08306b;\n",
       "            color:  #f1f1f1;\n",
       "        }    #T_f7e13cc0_8ef4_11ea_96df_c03896493c4erow1_col1 {\n",
       "            background-color:  #74b3d8;\n",
       "            color:  #000000;\n",
       "        }    #T_f7e13cc0_8ef4_11ea_96df_c03896493c4erow2_col1 {\n",
       "            background-color:  #c8dcf0;\n",
       "            color:  #000000;\n",
       "        }    #T_f7e13cc0_8ef4_11ea_96df_c03896493c4erow3_col1 {\n",
       "            background-color:  #c8dcf0;\n",
       "            color:  #000000;\n",
       "        }    #T_f7e13cc0_8ef4_11ea_96df_c03896493c4erow4_col1 {\n",
       "            background-color:  #dfecf7;\n",
       "            color:  #000000;\n",
       "        }    #T_f7e13cc0_8ef4_11ea_96df_c03896493c4erow5_col1 {\n",
       "            background-color:  #e7f1fa;\n",
       "            color:  #000000;\n",
       "        }    #T_f7e13cc0_8ef4_11ea_96df_c03896493c4erow6_col1 {\n",
       "            background-color:  #e7f1fa;\n",
       "            color:  #000000;\n",
       "        }    #T_f7e13cc0_8ef4_11ea_96df_c03896493c4erow7_col1 {\n",
       "            background-color:  #e7f1fa;\n",
       "            color:  #000000;\n",
       "        }    #T_f7e13cc0_8ef4_11ea_96df_c03896493c4erow8_col1 {\n",
       "            background-color:  #e7f1fa;\n",
       "            color:  #000000;\n",
       "        }    #T_f7e13cc0_8ef4_11ea_96df_c03896493c4erow9_col1 {\n",
       "            background-color:  #eff6fc;\n",
       "            color:  #000000;\n",
       "        }    #T_f7e13cc0_8ef4_11ea_96df_c03896493c4erow10_col1 {\n",
       "            background-color:  #eff6fc;\n",
       "            color:  #000000;\n",
       "        }    #T_f7e13cc0_8ef4_11ea_96df_c03896493c4erow11_col1 {\n",
       "            background-color:  #eff6fc;\n",
       "            color:  #000000;\n",
       "        }    #T_f7e13cc0_8ef4_11ea_96df_c03896493c4erow12_col1 {\n",
       "            background-color:  #f7fbff;\n",
       "            color:  #000000;\n",
       "        }    #T_f7e13cc0_8ef4_11ea_96df_c03896493c4erow13_col1 {\n",
       "            background-color:  #f7fbff;\n",
       "            color:  #000000;\n",
       "        }    #T_f7e13cc0_8ef4_11ea_96df_c03896493c4erow14_col1 {\n",
       "            background-color:  #f7fbff;\n",
       "            color:  #000000;\n",
       "        }</style><table id=\"T_f7e13cc0_8ef4_11ea_96df_c03896493c4e\" ><thead>    <tr>        <th class=\"blank level0\" ></th>        <th class=\"col_heading level0 col0\" >Common_words</th>        <th class=\"col_heading level0 col1\" >count</th>    </tr></thead><tbody>\n",
       "                <tr>\n",
       "                        <th id=\"T_f7e13cc0_8ef4_11ea_96df_c03896493c4elevel0_row0\" class=\"row_heading level0 row0\" >0</th>\n",
       "                        <td id=\"T_f7e13cc0_8ef4_11ea_96df_c03896493c4erow0_col0\" class=\"data row0 col0\" >much</td>\n",
       "                        <td id=\"T_f7e13cc0_8ef4_11ea_96df_c03896493c4erow0_col1\" class=\"data row0 col1\" >27</td>\n",
       "            </tr>\n",
       "            <tr>\n",
       "                        <th id=\"T_f7e13cc0_8ef4_11ea_96df_c03896493c4elevel0_row1\" class=\"row_heading level0 row1\" >1</th>\n",
       "                        <td id=\"T_f7e13cc0_8ef4_11ea_96df_c03896493c4erow1_col0\" class=\"data row1 col0\" >user</td>\n",
       "                        <td id=\"T_f7e13cc0_8ef4_11ea_96df_c03896493c4erow1_col1\" class=\"data row1 col1\" >14</td>\n",
       "            </tr>\n",
       "            <tr>\n",
       "                        <th id=\"T_f7e13cc0_8ef4_11ea_96df_c03896493c4elevel0_row2\" class=\"row_heading level0 row2\" >2</th>\n",
       "                        <td id=\"T_f7e13cc0_8ef4_11ea_96df_c03896493c4erow2_col0\" class=\"data row2 col0\" >avail</td>\n",
       "                        <td id=\"T_f7e13cc0_8ef4_11ea_96df_c03896493c4erow2_col1\" class=\"data row2 col1\" >8</td>\n",
       "            </tr>\n",
       "            <tr>\n",
       "                        <th id=\"T_f7e13cc0_8ef4_11ea_96df_c03896493c4elevel0_row3\" class=\"row_heading level0 row3\" >3</th>\n",
       "                        <td id=\"T_f7e13cc0_8ef4_11ea_96df_c03896493c4erow3_col0\" class=\"data row3 col0\" >bag</td>\n",
       "                        <td id=\"T_f7e13cc0_8ef4_11ea_96df_c03896493c4erow3_col1\" class=\"data row3 col1\" >8</td>\n",
       "            </tr>\n",
       "            <tr>\n",
       "                        <th id=\"T_f7e13cc0_8ef4_11ea_96df_c03896493c4elevel0_row4\" class=\"row_heading level0 row4\" >4</th>\n",
       "                        <td id=\"T_f7e13cc0_8ef4_11ea_96df_c03896493c4erow4_col0\" class=\"data row4 col0\" >size</td>\n",
       "                        <td id=\"T_f7e13cc0_8ef4_11ea_96df_c03896493c4erow4_col1\" class=\"data row4 col1\" >5</td>\n",
       "            </tr>\n",
       "            <tr>\n",
       "                        <th id=\"T_f7e13cc0_8ef4_11ea_96df_c03896493c4elevel0_row5\" class=\"row_heading level0 row5\" >5</th>\n",
       "                        <td id=\"T_f7e13cc0_8ef4_11ea_96df_c03896493c4erow5_col0\" class=\"data row5 col0\" >still</td>\n",
       "                        <td id=\"T_f7e13cc0_8ef4_11ea_96df_c03896493c4erow5_col1\" class=\"data row5 col1\" >4</td>\n",
       "            </tr>\n",
       "            <tr>\n",
       "                        <th id=\"T_f7e13cc0_8ef4_11ea_96df_c03896493c4elevel0_row6\" class=\"row_heading level0 row6\" >6</th>\n",
       "                        <td id=\"T_f7e13cc0_8ef4_11ea_96df_c03896493c4erow6_col0\" class=\"data row6 col0\" >want</td>\n",
       "                        <td id=\"T_f7e13cc0_8ef4_11ea_96df_c03896493c4erow6_col1\" class=\"data row6 col1\" >4</td>\n",
       "            </tr>\n",
       "            <tr>\n",
       "                        <th id=\"T_f7e13cc0_8ef4_11ea_96df_c03896493c4elevel0_row7\" class=\"row_heading level0 row7\" >7</th>\n",
       "                        <td id=\"T_f7e13cc0_8ef4_11ea_96df_c03896493c4erow7_col0\" class=\"data row7 col0\" >get</td>\n",
       "                        <td id=\"T_f7e13cc0_8ef4_11ea_96df_c03896493c4erow7_col1\" class=\"data row7 col1\" >4</td>\n",
       "            </tr>\n",
       "            <tr>\n",
       "                        <th id=\"T_f7e13cc0_8ef4_11ea_96df_c03896493c4elevel0_row8\" class=\"row_heading level0 row8\" >8</th>\n",
       "                        <td id=\"T_f7e13cc0_8ef4_11ea_96df_c03896493c4erow8_col0\" class=\"data row8 col0\" >one</td>\n",
       "                        <td id=\"T_f7e13cc0_8ef4_11ea_96df_c03896493c4erow8_col1\" class=\"data row8 col1\" >4</td>\n",
       "            </tr>\n",
       "            <tr>\n",
       "                        <th id=\"T_f7e13cc0_8ef4_11ea_96df_c03896493c4elevel0_row9\" class=\"row_heading level0 row9\" >9</th>\n",
       "                        <td id=\"T_f7e13cc0_8ef4_11ea_96df_c03896493c4erow9_col0\" class=\"data row9 col0\" >belt</td>\n",
       "                        <td id=\"T_f7e13cc0_8ef4_11ea_96df_c03896493c4erow9_col1\" class=\"data row9 col1\" >3</td>\n",
       "            </tr>\n",
       "            <tr>\n",
       "                        <th id=\"T_f7e13cc0_8ef4_11ea_96df_c03896493c4elevel0_row10\" class=\"row_heading level0 row10\" >10</th>\n",
       "                        <td id=\"T_f7e13cc0_8ef4_11ea_96df_c03896493c4erow10_col0\" class=\"data row10 col0\" >contact</td>\n",
       "                        <td id=\"T_f7e13cc0_8ef4_11ea_96df_c03896493c4erow10_col1\" class=\"data row10 col1\" >3</td>\n",
       "            </tr>\n",
       "            <tr>\n",
       "                        <th id=\"T_f7e13cc0_8ef4_11ea_96df_c03896493c4elevel0_row11\" class=\"row_heading level0 row11\" >11</th>\n",
       "                        <td id=\"T_f7e13cc0_8ef4_11ea_96df_c03896493c4erow11_col0\" class=\"data row11 col0\" >locat</td>\n",
       "                        <td id=\"T_f7e13cc0_8ef4_11ea_96df_c03896493c4erow11_col1\" class=\"data row11 col1\" >3</td>\n",
       "            </tr>\n",
       "            <tr>\n",
       "                        <th id=\"T_f7e13cc0_8ef4_11ea_96df_c03896493c4elevel0_row12\" class=\"row_heading level0 row12\" >12</th>\n",
       "                        <td id=\"T_f7e13cc0_8ef4_11ea_96df_c03896493c4erow12_col0\" class=\"data row12 col0\" >okay</td>\n",
       "                        <td id=\"T_f7e13cc0_8ef4_11ea_96df_c03896493c4erow12_col1\" class=\"data row12 col1\" >2</td>\n",
       "            </tr>\n",
       "            <tr>\n",
       "                        <th id=\"T_f7e13cc0_8ef4_11ea_96df_c03896493c4elevel0_row13\" class=\"row_heading level0 row13\" >13</th>\n",
       "                        <td id=\"T_f7e13cc0_8ef4_11ea_96df_c03896493c4erow13_col0\" class=\"data row13 col0\" >need</td>\n",
       "                        <td id=\"T_f7e13cc0_8ef4_11ea_96df_c03896493c4erow13_col1\" class=\"data row13 col1\" >2</td>\n",
       "            </tr>\n",
       "            <tr>\n",
       "                        <th id=\"T_f7e13cc0_8ef4_11ea_96df_c03896493c4elevel0_row14\" class=\"row_heading level0 row14\" >14</th>\n",
       "                        <td id=\"T_f7e13cc0_8ef4_11ea_96df_c03896493c4erow14_col0\" class=\"data row14 col0\" >beauti</td>\n",
       "                        <td id=\"T_f7e13cc0_8ef4_11ea_96df_c03896493c4erow14_col1\" class=\"data row14 col1\" >2</td>\n",
       "            </tr>\n",
       "    </tbody></table>"
      ],
      "text/plain": [
       "<pandas.io.formats.style.Styler at 0x2ccf1a73dd8>"
      ]
     },
     "execution_count": 294,
     "metadata": {},
     "output_type": "execute_result"
    }
   ],
   "source": [
    "# Words with their frequency with descending order\n",
    "data['temp_list'] = data['selected_text'].apply(lambda x:str(x).split())\n",
    "top = Counter([item for sublist in data['temp_list'] for item in sublist])\n",
    "temp = pd.DataFrame(top.most_common(15))\n",
    "temp.columns = ['Common_words','count']\n",
    "temp.style.background_gradient(cmap='Blues')"
   ]
  },
  {
   "cell_type": "code",
   "execution_count": 295,
   "metadata": {},
   "outputs": [
    {
     "data": {
      "text/plain": [
       "<matplotlib.axes._subplots.AxesSubplot at 0x2ccf1a13198>"
      ]
     },
     "execution_count": 295,
     "metadata": {},
     "output_type": "execute_result"
    },
    {
     "data": {
      "image/png": "[encoded data removed]",
      "text/plain": [
       "<Figure size 1440x720 with 1 Axes>"
      ]
     },
     "metadata": {},
     "output_type": "display_data"
    }
   ],
   "source": [
    "# Graphical representation of the word frequency\n",
    "fig_size = plt.rcParams[\"figure.figsize\"]\n",
    "fig_size[0] = 20\n",
    "fig_size[1] =10\n",
    "plt.rcParams[\"figure.figsize\"] = fig_size\n",
    "\n",
    "sns.set(style='darkgrid')\n",
    "plt.title('Commmon Words in Selected Text')\n",
    "chart_1=sns.barplot(x=\"count\",y=\"Common_words\", data=temp)\n",
    "\n",
    "chart_1.set_xticklabels(chart_1.get_xticklabels(), rotation=45, horizontalalignment='right')\n",
    "chart_1"
   ]
  },
  {
   "cell_type": "markdown",
   "metadata": {},
   "source": [
    "#### Text Processing"
   ]
  },
  {
   "cell_type": "code",
   "execution_count": 310,
   "metadata": {},
   "outputs": [
    {
     "data": {
      "text/html": [
       "<div>\n",
       "<style scoped>\n",
       "    .dataframe tbody tr th:only-of-type {\n",
       "        vertical-align: middle;\n",
       "    }\n",
       "\n",
       "    .dataframe tbody tr th {\n",
       "        vertical-align: top;\n",
       "    }\n",
       "\n",
       "    .dataframe thead th {\n",
       "        text-align: right;\n",
       "    }\n",
       "</style>\n",
       "<table border=\"1\" class=\"dataframe\">\n",
       "  <thead>\n",
       "    <tr style=\"text-align: right;\">\n",
       "      <th></th>\n",
       "      <th>Purchase</th>\n",
       "      <th>selected_text</th>\n",
       "    </tr>\n",
       "  </thead>\n",
       "  <tbody>\n",
       "    <tr>\n",
       "      <th>23</th>\n",
       "      <td>1</td>\n",
       "      <td>could guy even share contact need bag know sho...</td>\n",
       "    </tr>\n",
       "    <tr>\n",
       "      <th>57</th>\n",
       "      <td>1</td>\n",
       "      <td>much</td>\n",
       "    </tr>\n",
       "    <tr>\n",
       "      <th>53</th>\n",
       "      <td>0</td>\n",
       "      <td>much</td>\n",
       "    </tr>\n",
       "    <tr>\n",
       "      <th>10</th>\n",
       "      <td>0</td>\n",
       "      <td>avail</td>\n",
       "    </tr>\n",
       "    <tr>\n",
       "      <th>83</th>\n",
       "      <td>0</td>\n",
       "      <td>black white</td>\n",
       "    </tr>\n",
       "  </tbody>\n",
       "</table>\n",
       "</div>"
      ],
      "text/plain": [
       "    Purchase                                      selected_text\n",
       "23         1  could guy even share contact need bag know sho...\n",
       "57         1                                               much\n",
       "53         0                                               much\n",
       "10         0                                              avail\n",
       "83         0                                        black white"
      ]
     },
     "execution_count": 310,
     "metadata": {},
     "output_type": "execute_result"
    }
   ],
   "source": [
    "#Drop the unnecessary columns \n",
    "cols = ['Comment_ID','User_ID','Date','Likes','Comment','temp_list']\n",
    "data = data.drop(cols, axis = 1)\n",
    "data.sample(5)"
   ]
  },
  {
   "cell_type": "code",
   "execution_count": 311,
   "metadata": {},
   "outputs": [],
   "source": [
    "# Creating the Bag of Words model \n",
    "#from sklearn.feature_extraction.text import CountVectorizer \n",
    "  \n",
    "# To extract max 1500 feature. \n",
    "# \"max_features\" is attribute to \n",
    "# experiment with to get better results \n",
    "cv = CountVectorizer(max_features = 1500)  \n",
    "  \n",
    "# X contains corpus (dependent variable) \n",
    "X = cv.fit_transform(corpus).toarray()  \n",
    "  \n",
    "# y contains answers if review \n",
    "# is positive or negative \n",
    "y = data.iloc[:, 0].values  "
   ]
  },
  {
   "cell_type": "code",
   "execution_count": 394,
   "metadata": {},
   "outputs": [],
   "source": [
    "# Split the data into train and test data in preparation for modelling \n",
    "# We will split the data 80/20 i.e 80 training data and 20 testing data\n",
    "# Splitting the dataset into \n",
    "# the Training set and Test set \n",
    "from sklearn.model_selection import train_test_split \n",
    "  \n",
    "# experiment with \"test_size\" \n",
    "# to get better results \n",
    "X_train, X_test, y_train, y_test = train_test_split(X, y, test_size = 0.30) "
   ]
  },
  {
   "cell_type": "markdown",
   "metadata": {},
   "source": [
    "### Modelling"
   ]
  },
  {
   "cell_type": "markdown",
   "metadata": {},
   "source": [
    "#### Random Forest"
   ]
  },
  {
   "cell_type": "code",
   "execution_count": 395,
   "metadata": {},
   "outputs": [
    {
     "data": {
      "text/plain": [
       "RandomForestClassifier(bootstrap=True, class_weight=None, criterion='entropy',\n",
       "            max_depth=None, max_features='auto', max_leaf_nodes=None,\n",
       "            min_impurity_decrease=0.0, min_impurity_split=None,\n",
       "            min_samples_leaf=1, min_samples_split=2,\n",
       "            min_weight_fraction_leaf=0.0, n_estimators=501, n_jobs=None,\n",
       "            oob_score=False, random_state=None, verbose=0,\n",
       "            warm_start=False)"
      ]
     },
     "execution_count": 395,
     "metadata": {},
     "output_type": "execute_result"
    }
   ],
   "source": [
    "# Fitting Random Forest Classification \n",
    "# to the Training set \n",
    "from sklearn.ensemble import RandomForestClassifier \n",
    "  \n",
    "# n_estimators can be said as number of \n",
    "# trees, experiment with n_estimators \n",
    "# to get better results  \n",
    "model = RandomForestClassifier(n_estimators = 501, \n",
    "                            criterion = 'entropy') \n",
    "                              \n",
    "model.fit(X_train, y_train)  "
   ]
  },
  {
   "cell_type": "code",
   "execution_count": 396,
   "metadata": {},
   "outputs": [
    {
     "data": {
      "text/plain": [
       "array([0, 0, 0, 0, 0, 0, 0, 0, 1, 0, 0, 0, 0, 1, 0, 0, 0, 0, 0, 0, 0, 0,\n",
       "       1, 0, 1, 0, 0], dtype=int64)"
      ]
     },
     "execution_count": 396,
     "metadata": {},
     "output_type": "execute_result"
    }
   ],
   "source": [
    "# Predicting the Test set results \n",
    "random_forest_pred = model.predict(X_test) \n",
    "  \n",
    "random_forest_pred "
   ]
  },
  {
   "cell_type": "code",
   "execution_count": 397,
   "metadata": {},
   "outputs": [
    {
     "name": "stdout",
     "output_type": "stream",
     "text": [
      "Accuracy:  0.7407407407407407\n"
     ]
    }
   ],
   "source": [
    "print(\"Accuracy: \",metrics.accuracy_score(y_test, random_forest_pred))"
   ]
  },
  {
   "cell_type": "code",
   "execution_count": 398,
   "metadata": {},
   "outputs": [
    {
     "name": "stdout",
     "output_type": "stream",
     "text": [
      "              precision    recall  f1-score   support\n",
      "\n",
      "           0       0.74      0.94      0.83        18\n",
      "           1       0.75      0.33      0.46         9\n",
      "\n",
      "   micro avg       0.74      0.74      0.74        27\n",
      "   macro avg       0.74      0.64      0.65        27\n",
      "weighted avg       0.74      0.74      0.71        27\n",
      "\n"
     ]
    }
   ],
   "source": [
    "print(classification_report(y_test, random_forest_pred))"
   ]
  },
  {
   "cell_type": "code",
   "execution_count": 399,
   "metadata": {},
   "outputs": [
    {
     "name": "stdout",
     "output_type": "stream",
     "text": [
      "[[17  1]\n",
      " [ 6  3]]\n"
     ]
    }
   ],
   "source": [
    "random_forest_confusion_matrix = confusion_matrix(y_test, random_forest_pred)\n",
    "print(random_forest_confusion_matrix)"
   ]
  },
  {
   "cell_type": "markdown",
   "metadata": {},
   "source": [
    "#### Logistic Regression"
   ]
  },
  {
   "cell_type": "code",
   "execution_count": 400,
   "metadata": {},
   "outputs": [],
   "source": [
    "# Imort Linear Model\n",
    "from sklearn import linear_model\n",
    "from sklearn.linear_model import LogisticRegression"
   ]
  },
  {
   "cell_type": "code",
   "execution_count": 401,
   "metadata": {},
   "outputs": [
    {
     "data": {
      "text/plain": [
       "LogisticRegression(C=1.0, class_weight=None, dual=False, fit_intercept=True,\n",
       "          intercept_scaling=1, max_iter=100, multi_class='warn',\n",
       "          n_jobs=None, penalty='l2', random_state=None, solver='warn',\n",
       "          tol=0.0001, verbose=0, warm_start=False)"
      ]
     },
     "execution_count": 401,
     "metadata": {},
     "output_type": "execute_result"
    }
   ],
   "source": [
    "# Fit (train) the Logistic Regression classifier\n",
    "#Using sklearn\n",
    "sklearn_logistic_regression_model = LogisticRegression()\n",
    "sklearn_logistic_regression_model.fit(X_train, y_train)"
   ]
  },
  {
   "cell_type": "code",
   "execution_count": 402,
   "metadata": {},
   "outputs": [
    {
     "data": {
      "text/plain": [
       "array([0, 0, 0, 0, 0, 0, 1, 0, 1, 1, 0, 0, 0, 0, 0, 0, 0, 0, 0, 0, 0, 0,\n",
       "       1, 0, 1, 0, 0], dtype=int64)"
      ]
     },
     "execution_count": 402,
     "metadata": {},
     "output_type": "execute_result"
    }
   ],
   "source": [
    "logistic_regression_pred = sklearn_logistic_regression_model.predict(X_test)\n",
    "logistic_regression_pred "
   ]
  },
  {
   "cell_type": "code",
   "execution_count": 403,
   "metadata": {},
   "outputs": [
    {
     "name": "stdout",
     "output_type": "stream",
     "text": [
      "Accuracy:  0.7037037037037037\n"
     ]
    }
   ],
   "source": [
    "print(\"Accuracy: \" ,metrics.accuracy_score(y_test, logistic_regression_pred))"
   ]
  },
  {
   "cell_type": "code",
   "execution_count": 404,
   "metadata": {},
   "outputs": [
    {
     "name": "stdout",
     "output_type": "stream",
     "text": [
      "              precision    recall  f1-score   support\n",
      "\n",
      "           0       0.73      0.89      0.80        18\n",
      "           1       0.60      0.33      0.43         9\n",
      "\n",
      "   micro avg       0.70      0.70      0.70        27\n",
      "   macro avg       0.66      0.61      0.61        27\n",
      "weighted avg       0.68      0.70      0.68        27\n",
      "\n"
     ]
    }
   ],
   "source": [
    "print(classification_report(y_test, logistic_regression_pred))"
   ]
  },
  {
   "cell_type": "code",
   "execution_count": 405,
   "metadata": {},
   "outputs": [
    {
     "name": "stdout",
     "output_type": "stream",
     "text": [
      "[[16  2]\n",
      " [ 6  3]]\n"
     ]
    }
   ],
   "source": [
    "logistic_regression_confusion_matrix = confusion_matrix(y_test, logistic_regression_pred)\n",
    "print(logistic_regression_confusion_matrix)"
   ]
  },
  {
   "cell_type": "markdown",
   "metadata": {},
   "source": [
    "#### Model Evaluation "
   ]
  },
  {
   "cell_type": "markdown",
   "metadata": {},
   "source": [
    "##### The random forest model:\n",
    "Accuracy: **74%**\n",
    "\n",
    "Confusion matrix: False negatives of **6**\n",
    "\n",
    "Our target variable has a precision of **0.75**\n",
    "\n",
    "Our target variable has a recall of **0.33**"
   ]
  },
  {
   "cell_type": "markdown",
   "metadata": {},
   "source": [
    "##### The logistic regression model:\n",
    "Accuracy: **70.4%**\n",
    "\n",
    "Confusion matrix: False negatives of **6**\n",
    "\n",
    "Our target variable has a precision of **0.60**\n",
    "\n",
    "Our target variable has a recall of **0.33**"
   ]
  },
  {
   "cell_type": "code",
   "execution_count": null,
   "metadata": {},
   "outputs": [],
   "source": []
  }
 ],
 "metadata": {
  "kernelspec": {
   "display_name": "Python 3",
   "language": "python",
   "name": "python3"
  },
  "language_info": {
   "codemirror_mode": {
    "name": "ipython",
    "version": 3
   },
   "file_extension": ".py",
   "mimetype": "text/x-python",
   "name": "python",
   "nbconvert_exporter": "python",
   "pygments_lexer": "ipython3",
   "version": "3.7.3"
  }
 },
 "nbformat": 4,
 "nbformat_minor": 2
}
